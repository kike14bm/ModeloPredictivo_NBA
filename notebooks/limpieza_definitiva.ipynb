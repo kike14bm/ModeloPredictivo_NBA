{
 "cells": [
  {
   "cell_type": "code",
   "execution_count": 1,
   "id": "dab75758-71df-44af-bc8a-25fc4ab5ecad",
   "metadata": {
    "tags": []
   },
   "outputs": [],
   "source": [
    "import pandas as pd\n",
    "import numpy as np\n",
    "import matplotlib.pyplot as plt\n",
    "import seaborn as sns"
   ]
  },
  {
   "cell_type": "markdown",
   "id": "b75b4c10-6f70-4de5-b4af-82019dee80fd",
   "metadata": {},
   "source": [
    "## UNIR DOS TABLAS"
   ]
  },
  {
   "cell_type": "code",
   "execution_count": 2,
   "id": "7860a343-8135-49c3-9038-ae440591db9d",
   "metadata": {
    "tags": []
   },
   "outputs": [
    {
     "name": "stdout",
     "output_type": "stream",
     "text": [
      "Index(['GRID_TYPE', 'GAME_ID', 'GAME_EVENT_ID', 'PLAYER_ID', 'PLAYER_NAME',\n",
      "       'TEAM_ID', 'TEAM_NAME', 'PERIOD', 'MINUTES_REMAINING',\n",
      "       'SECONDS_REMAINING', 'EVENT_TYPE', 'ACTION_TYPE', 'SHOT_TYPE',\n",
      "       'SHOT_ZONE_BASIC', 'SHOT_ZONE_AREA', 'SHOT_ZONE_RANGE', 'SHOT_DISTANCE',\n",
      "       'LOC_X', 'LOC_Y', 'SHOT_ATTEMPTED_FLAG', 'SHOT_MADE_FLAG', 'GAME_DATE',\n",
      "       'HTM', 'VTM', 'player_name', 'Season Type', 'HOME_TEAM_NAME',\n",
      "       'AWAY_TEAM_NAME', 'LOCATION'],\n",
      "      dtype='object')\n"
     ]
    }
   ],
   "source": [
    "# Cargar el dataset (ajusta el nombre del archivo)\n",
    "df = pd.read_csv(\"../data/all_shot_data_final.csv\")\n",
    "df2 = pd.read_csv(\"../data/NBA Stats 202324 All Stats  NBA Player Props Tool.csv\")\n",
    "# Mostrar nombres de columnas\n",
    "print(df.columns)"
   ]
  },
  {
   "cell_type": "code",
   "execution_count": 3,
   "id": "759aeff7-a8f5-4139-8a10-62ee2b0ddbe2",
   "metadata": {
    "tags": []
   },
   "outputs": [
    {
     "data": {
      "text/html": [
       "<div>\n",
       "<style scoped>\n",
       "    .dataframe tbody tr th:only-of-type {\n",
       "        vertical-align: middle;\n",
       "    }\n",
       "\n",
       "    .dataframe tbody tr th {\n",
       "        vertical-align: top;\n",
       "    }\n",
       "\n",
       "    .dataframe thead th {\n",
       "        text-align: right;\n",
       "    }\n",
       "</style>\n",
       "<table border=\"1\" class=\"dataframe\">\n",
       "  <thead>\n",
       "    <tr style=\"text-align: right;\">\n",
       "      <th></th>\n",
       "      <th>GRID_TYPE</th>\n",
       "      <th>GAME_ID</th>\n",
       "      <th>GAME_EVENT_ID</th>\n",
       "      <th>PLAYER_ID</th>\n",
       "      <th>PLAYER_NAME</th>\n",
       "      <th>TEAM_ID</th>\n",
       "      <th>TEAM_NAME</th>\n",
       "      <th>PERIOD</th>\n",
       "      <th>MINUTES_REMAINING</th>\n",
       "      <th>SECONDS_REMAINING</th>\n",
       "      <th>...</th>\n",
       "      <th>SHOT_ATTEMPTED_FLAG</th>\n",
       "      <th>SHOT_MADE_FLAG</th>\n",
       "      <th>GAME_DATE</th>\n",
       "      <th>HTM</th>\n",
       "      <th>VTM</th>\n",
       "      <th>player_name</th>\n",
       "      <th>Season Type</th>\n",
       "      <th>HOME_TEAM_NAME</th>\n",
       "      <th>AWAY_TEAM_NAME</th>\n",
       "      <th>LOCATION</th>\n",
       "    </tr>\n",
       "  </thead>\n",
       "  <tbody>\n",
       "    <tr>\n",
       "      <th>0</th>\n",
       "      <td>Shot Chart Detail</td>\n",
       "      <td>22300031</td>\n",
       "      <td>130</td>\n",
       "      <td>1630173</td>\n",
       "      <td>Precious Achiuwa</td>\n",
       "      <td>1610612761</td>\n",
       "      <td>Toronto Raptors</td>\n",
       "      <td>1</td>\n",
       "      <td>1</td>\n",
       "      <td>49</td>\n",
       "      <td>...</td>\n",
       "      <td>1</td>\n",
       "      <td>1</td>\n",
       "      <td>20231117</td>\n",
       "      <td>TOR</td>\n",
       "      <td>BOS</td>\n",
       "      <td>Precious Achiuwa</td>\n",
       "      <td>Regular Season</td>\n",
       "      <td>BOS</td>\n",
       "      <td>TOR</td>\n",
       "      <td>AWAY</td>\n",
       "    </tr>\n",
       "    <tr>\n",
       "      <th>1</th>\n",
       "      <td>Shot Chart Detail</td>\n",
       "      <td>22300031</td>\n",
       "      <td>148</td>\n",
       "      <td>1630173</td>\n",
       "      <td>Precious Achiuwa</td>\n",
       "      <td>1610612761</td>\n",
       "      <td>Toronto Raptors</td>\n",
       "      <td>1</td>\n",
       "      <td>0</td>\n",
       "      <td>11</td>\n",
       "      <td>...</td>\n",
       "      <td>1</td>\n",
       "      <td>0</td>\n",
       "      <td>20231117</td>\n",
       "      <td>TOR</td>\n",
       "      <td>BOS</td>\n",
       "      <td>Precious Achiuwa</td>\n",
       "      <td>Regular Season</td>\n",
       "      <td>BOS</td>\n",
       "      <td>TOR</td>\n",
       "      <td>AWAY</td>\n",
       "    </tr>\n",
       "  </tbody>\n",
       "</table>\n",
       "<p>2 rows × 29 columns</p>\n",
       "</div>"
      ],
      "text/plain": [
       "           GRID_TYPE   GAME_ID  GAME_EVENT_ID  PLAYER_ID       PLAYER_NAME  \\\n",
       "0  Shot Chart Detail  22300031            130    1630173  Precious Achiuwa   \n",
       "1  Shot Chart Detail  22300031            148    1630173  Precious Achiuwa   \n",
       "\n",
       "      TEAM_ID        TEAM_NAME  PERIOD  MINUTES_REMAINING  SECONDS_REMAINING  \\\n",
       "0  1610612761  Toronto Raptors       1                  1                 49   \n",
       "1  1610612761  Toronto Raptors       1                  0                 11   \n",
       "\n",
       "   ... SHOT_ATTEMPTED_FLAG SHOT_MADE_FLAG GAME_DATE  HTM  VTM  \\\n",
       "0  ...                   1              1  20231117  TOR  BOS   \n",
       "1  ...                   1              0  20231117  TOR  BOS   \n",
       "\n",
       "        player_name     Season Type  HOME_TEAM_NAME  AWAY_TEAM_NAME  LOCATION  \n",
       "0  Precious Achiuwa  Regular Season             BOS             TOR      AWAY  \n",
       "1  Precious Achiuwa  Regular Season             BOS             TOR      AWAY  \n",
       "\n",
       "[2 rows x 29 columns]"
      ]
     },
     "execution_count": 3,
     "metadata": {},
     "output_type": "execute_result"
    }
   ],
   "source": [
    "df.head(2)"
   ]
  },
  {
   "cell_type": "code",
   "execution_count": 4,
   "id": "8afcd234-0ea0-4f1f-b6a6-f29e835fdf66",
   "metadata": {
    "tags": []
   },
   "outputs": [],
   "source": [
    "# UNIR TABLAS\n",
    "df = df.merge(df2[['NAME', 'POS']],\n",
    "              left_on=\"PLAYER_NAME\",\n",
    "              right_on=\"NAME\", how=\"left\").drop(columns=[\"NAME\"])"
   ]
  },
  {
   "cell_type": "code",
   "execution_count": 5,
   "id": "eda2339f-63ed-472f-9c44-45a06c6714ac",
   "metadata": {
    "tags": []
   },
   "outputs": [
    {
     "data": {
      "text/plain": [
       "array(['Restricted Area', 'Right Corner 3', 'Left Corner 3',\n",
       "       'Above the Break 3', 'In The Paint (Non-RA)', 'Mid-Range',\n",
       "       'Backcourt'], dtype=object)"
      ]
     },
     "execution_count": 5,
     "metadata": {},
     "output_type": "execute_result"
    }
   ],
   "source": [
    "df[\"SHOT_ZONE_BASIC\"].unique()"
   ]
  },
  {
   "cell_type": "code",
   "execution_count": 6,
   "id": "648be577-b710-4dcf-9401-fa235180ac92",
   "metadata": {
    "tags": []
   },
   "outputs": [
    {
     "data": {
      "text/plain": [
       "array(['Center(C)', 'Right Side(R)', 'Left Side(L)',\n",
       "       'Left Side Center(LC)', 'Right Side Center(RC)', 'Back Court(BC)'],\n",
       "      dtype=object)"
      ]
     },
     "execution_count": 6,
     "metadata": {},
     "output_type": "execute_result"
    }
   ],
   "source": [
    "df[\"SHOT_ZONE_AREA\"].unique()"
   ]
  },
  {
   "cell_type": "code",
   "execution_count": 7,
   "id": "00f5a06a-ec78-4cc4-9359-e38ca6d39334",
   "metadata": {
    "tags": []
   },
   "outputs": [
    {
     "data": {
      "text/plain": [
       "array(['Toronto Raptors', 'New York Knicks', 'Miami Heat', 'Utah Jazz',\n",
       "       'Memphis Grizzlies', 'Minnesota Timberwolves', 'Phoenix Suns',\n",
       "       'Cleveland Cavaliers', 'New Orleans Pelicans', 'Milwaukee Bucks',\n",
       "       'Orlando Magic', 'Washington Wizards', 'Portland Trail Blazers',\n",
       "       'Detroit Pistons', 'Charlotte Hornets', 'Philadelphia 76ers',\n",
       "       'Boston Celtics', 'San Antonio Spurs', 'Sacramento Kings',\n",
       "       'Brooklyn Nets', 'LA Clippers', 'Oklahoma City Thunder',\n",
       "       'Atlanta Hawks', 'Chicago Bulls', 'Denver Nuggets',\n",
       "       'Houston Rockets', 'Indiana Pacers', 'Dallas Mavericks',\n",
       "       'Los Angeles Lakers', 'Golden State Warriors'], dtype=object)"
      ]
     },
     "execution_count": 7,
     "metadata": {},
     "output_type": "execute_result"
    }
   ],
   "source": [
    "equipos = df[\"TEAM_NAME\"].unique()\n",
    "equipos"
   ]
  },
  {
   "cell_type": "markdown",
   "id": "875d4378-2301-41d1-ac14-02b09fbddbdd",
   "metadata": {},
   "source": [
    "## ARREGLAR COLUMNA VISITANTE Y LOCAL: AWAY_TEAM_NAME // HOME_TEAM_NAME"
   ]
  },
  {
   "cell_type": "code",
   "execution_count": 8,
   "id": "3bc93bb2-2b6a-45d3-a87d-65dda8a8a5ec",
   "metadata": {
    "tags": []
   },
   "outputs": [],
   "source": [
    "# Diccionario que mapea los nombres completos de los equipos a sus abreviaturas\n",
    "team_abbr = {\n",
    "    'Toronto Raptors': 'TOR', 'New York Knicks': 'NYK', 'Miami Heat': 'MIA', 'Utah Jazz': 'UTA',\n",
    "    'Memphis Grizzlies': 'MEM', 'Minnesota Timberwolves': 'MIN', 'Phoenix Suns': 'PHX', \n",
    "    'Cleveland Cavaliers': 'CLE', 'New Orleans Pelicans': 'NOP', 'Milwaukee Bucks': 'MIL',\n",
    "    'Orlando Magic': 'ORL', 'Washington Wizards': 'WAS', 'Portland Trail Blazers': 'POR',\n",
    "    'Detroit Pistons': 'DET', 'Charlotte Hornets': 'CHA', 'Philadelphia 76ers': 'PHI',\n",
    "    'Boston Celtics': 'BOS', 'San Antonio Spurs': 'SAS', 'Sacramento Kings': 'SAC',\n",
    "    'Brooklyn Nets': 'BKN', 'LA Clippers': 'LAC', 'Oklahoma City Thunder': 'OKC', \n",
    "    'Atlanta Hawks': 'ATL', 'Chicago Bulls': 'CHI', 'Denver Nuggets': 'DEN',\n",
    "    'Houston Rockets': 'HOU', 'Indiana Pacers': 'IND', 'Dallas Mavericks': 'DAL',\n",
    "    'Los Angeles Lakers': 'LAL', 'Golden State Warriors': 'GSW'\n",
    "}"
   ]
  },
  {
   "cell_type": "code",
   "execution_count": 9,
   "id": "56a5fd08-0076-4c30-9705-05ed4077e5b4",
   "metadata": {
    "tags": []
   },
   "outputs": [
    {
     "name": "stdout",
     "output_type": "stream",
     "text": [
      "Número de filas después de la actualización: 259017\n",
      "           GRID_TYPE   GAME_ID  GAME_EVENT_ID  PLAYER_ID       PLAYER_NAME  \\\n",
      "0  Shot Chart Detail  22300031            130    1630173  Precious Achiuwa   \n",
      "1  Shot Chart Detail  22300031            130    1630173  Precious Achiuwa   \n",
      "2  Shot Chart Detail  22300031            148    1630173  Precious Achiuwa   \n",
      "3  Shot Chart Detail  22300031            148    1630173  Precious Achiuwa   \n",
      "4  Shot Chart Detail  22300031            195    1630173  Precious Achiuwa   \n",
      "\n",
      "      TEAM_ID        TEAM_NAME  PERIOD  MINUTES_REMAINING  SECONDS_REMAINING  \\\n",
      "0  1610612761  Toronto Raptors       1                  1                 49   \n",
      "1  1610612761  Toronto Raptors       1                  1                 49   \n",
      "2  1610612761  Toronto Raptors       1                  0                 11   \n",
      "3  1610612761  Toronto Raptors       1                  0                 11   \n",
      "4  1610612761  Toronto Raptors       2                  8                 49   \n",
      "\n",
      "   ... SHOT_MADE_FLAG GAME_DATE  HTM  VTM       player_name     Season Type  \\\n",
      "0  ...              1  20231117  TOR  BOS  Precious Achiuwa  Regular Season   \n",
      "1  ...              1  20231117  TOR  BOS  Precious Achiuwa  Regular Season   \n",
      "2  ...              0  20231117  TOR  BOS  Precious Achiuwa  Regular Season   \n",
      "3  ...              0  20231117  TOR  BOS  Precious Achiuwa  Regular Season   \n",
      "4  ...              0  20231117  TOR  BOS  Precious Achiuwa  Regular Season   \n",
      "\n",
      "   HOME_TEAM_NAME  AWAY_TEAM_NAME  LOCATION  POS  \n",
      "0             BOS             TOR      AWAY    F  \n",
      "1             BOS             TOR      AWAY    F  \n",
      "2             BOS             TOR      AWAY    F  \n",
      "3             BOS             TOR      AWAY    F  \n",
      "4             BOS             TOR      AWAY    F  \n",
      "\n",
      "[5 rows x 30 columns]\n"
     ]
    }
   ],
   "source": [
    "# Función para asignar las abreviaturas de los equipos según la ubicación\n",
    "def asignar_abreviatura(row):\n",
    "    team_name = row['TEAM_NAME']\n",
    "    \n",
    "    # Si el nombre del equipo está en el diccionario de abreviaturas\n",
    "    if team_name in team_abbr:\n",
    "        player_abbr = team_abbr[team_name]\n",
    "        \n",
    "        # Si el jugador está en el equipo visitante\n",
    "        if row['LOCATION'] == 'AWAY':\n",
    "            away_abbr = player_abbr  # La abreviatura del equipo del jugador va en AWAY_TEAM_NAME\n",
    "            # La abreviatura del equipo rival va en HOME_TEAM_NAME (el que no sea el del jugador)\n",
    "            home_abbr = row['VTM'] if row['VTM'] != away_abbr else row['HTM']\n",
    "            return pd.Series([away_abbr, home_abbr], index=['AWAY_TEAM_NAME', 'HOME_TEAM_NAME'])\n",
    "        \n",
    "        # Si el jugador está en el equipo local\n",
    "        elif row['LOCATION'] == 'HOME':\n",
    "            home_abbr = player_abbr  # La abreviatura del equipo del jugador va en HOME_TEAM_NAME\n",
    "            # La abreviatura del equipo rival va en AWAY_TEAM_NAME (el que no sea el del jugador)\n",
    "            away_abbr = row['VTM'] if row['VTM'] != home_abbr else row['HTM']\n",
    "            return pd.Series([home_abbr, away_abbr], index=['HOME_TEAM_NAME', 'AWAY_TEAM_NAME'])\n",
    "    else:\n",
    "        # Si no se encuentra la abreviatura del equipo, devolver None\n",
    "        return pd.Series([None, None], index=['AWAY_TEAM_NAME', 'HOME_TEAM_NAME'])\n",
    "\n",
    "# Aplicamos la función a todas las filas y sobrescribimos las columnas AWAY_TEAM_NAME y HOME_TEAM_NAME\n",
    "df[['AWAY_TEAM_NAME', 'HOME_TEAM_NAME']] = df.apply(asignar_abreviatura, axis=1)\n",
    "\n",
    "# Verificar que el dataframe ha sido actualizado\n",
    "print(f'Número de filas después de la actualización: {df.shape[0]}')\n",
    "\n",
    "\n",
    "\n",
    "# Para visualizar algunas filas y verificar\n",
    "print(df.head())"
   ]
  },
  {
   "cell_type": "markdown",
   "id": "aa125300-feec-4987-8089-9b9a82d66505",
   "metadata": {},
   "source": [
    "## TRADUCCION NOMBRE POSICIONES"
   ]
  },
  {
   "cell_type": "code",
   "execution_count": 10,
   "id": "03fd5ba2-92fb-4a66-8b7a-8c08c6364dc0",
   "metadata": {
    "tags": []
   },
   "outputs": [],
   "source": [
    "#CAMBIAR NOMBRE POSICIONES\n",
    "df[\"POS\"] = df[\"POS\"].replace({\n",
    "    \"C\": \"P\",\n",
    "    \"G\": \"B\",\n",
    "    \"F-C\": \"AP\",\n",
    "    \"C-F\": \"AP\",\n",
    "    \"F-G\": \"ES\",\n",
    "    \"G-F\": \"ES\",\n",
    "    \"F\": \"A\"\n",
    "})\n"
   ]
  },
  {
   "cell_type": "markdown",
   "id": "676d64d1-7c26-4f28-8cb9-ea8176a5c56e",
   "metadata": {},
   "source": [
    "## VER Y CAMBIAR LOS NULL"
   ]
  },
  {
   "cell_type": "code",
   "execution_count": 11,
   "id": "abc39f3d-1e8e-433e-af3f-b973b4a4495a",
   "metadata": {
    "tags": []
   },
   "outputs": [
    {
     "data": {
      "text/plain": [
       "Index(['GRID_TYPE', 'GAME_ID', 'GAME_EVENT_ID', 'PLAYER_ID', 'PLAYER_NAME',\n",
       "       'TEAM_ID', 'TEAM_NAME', 'PERIOD', 'MINUTES_REMAINING',\n",
       "       'SECONDS_REMAINING', 'EVENT_TYPE', 'ACTION_TYPE', 'SHOT_TYPE',\n",
       "       'SHOT_ZONE_BASIC', 'SHOT_ZONE_AREA', 'SHOT_ZONE_RANGE', 'SHOT_DISTANCE',\n",
       "       'LOC_X', 'LOC_Y', 'SHOT_ATTEMPTED_FLAG', 'SHOT_MADE_FLAG', 'GAME_DATE',\n",
       "       'HTM', 'VTM', 'player_name', 'Season Type', 'HOME_TEAM_NAME',\n",
       "       'AWAY_TEAM_NAME', 'LOCATION', 'POS'],\n",
       "      dtype='object')"
      ]
     },
     "execution_count": 11,
     "metadata": {},
     "output_type": "execute_result"
    }
   ],
   "source": [
    "df.columns"
   ]
  },
  {
   "cell_type": "code",
   "execution_count": 12,
   "id": "9848c819-1a31-490a-9b00-3873d9debae0",
   "metadata": {
    "tags": []
   },
   "outputs": [
    {
     "data": {
      "text/plain": [
       "array(['Patrick Baldwin Jr.', 'D’Moi Hodge', 'GG Jackson II', 'AJ Lawson',\n",
       "       'Craig Porter Jr.'], dtype=object)"
      ]
     },
     "execution_count": 12,
     "metadata": {},
     "output_type": "execute_result"
    }
   ],
   "source": [
    "jugadores_sin_pos = df[df[\"POS\"].isna()][\"PLAYER_NAME\"].unique()\n",
    "jugadores_sin_pos"
   ]
  },
  {
   "cell_type": "code",
   "execution_count": 13,
   "id": "0af6a523-2310-4312-99e6-44503ca807ee",
   "metadata": {},
   "outputs": [],
   "source": [
    "#CAMBIAR NULLS A MANO\n",
    "df.loc[df[\"PLAYER_NAME\"] == \"Patrick Baldwin Jr.\", \"POS\"] = \"A\"\n",
    "df.loc[df[\"PLAYER_NAME\"] == \"D’Moi Hodge\", \"POS\"] = \"ES\"\n",
    "df.loc[df[\"PLAYER_NAME\"] == \"GG Jackson II\", \"POS\"] = \"A\"\n",
    "df.loc[df[\"PLAYER_NAME\"] == \"AJ Lawson\", \"POS\"] = \"ES\"\n",
    "df.loc[df[\"PLAYER_NAME\"] == \"Craig Porter Jr.\", \"POS\"] = \"B\""
   ]
  },
  {
   "cell_type": "markdown",
   "id": "5239b422-5747-4567-aa59-71fe3282cc65",
   "metadata": {},
   "source": [
    "## CONVERSIÓN A METROS"
   ]
  },
  {
   "cell_type": "code",
   "execution_count": 14,
   "id": "d3630978-7a97-4355-a56a-9029d80887f7",
   "metadata": {},
   "outputs": [],
   "source": [
    "#  COLUMNA SHOT_DISTANCE\n",
    "df[\"SHOT_DISTANCE_METERS\"] = (df[\"SHOT_DISTANCE\"] * 0.3048).round(2)  #me quedo con dos decimales"
   ]
  },
  {
   "cell_type": "code",
   "execution_count": 15,
   "id": "89b22c03-8e8a-4544-a347-a22a7455f23e",
   "metadata": {},
   "outputs": [],
   "source": [
    "#  columna SHOT_ZONE_RANGE (más complicada porque mezcla los pies con texto)\n",
    "\n",
    "# Función para convertir la distancia en pies a metros\n",
    "def convertir_a_metros(valor):\n",
    "    # Comprobar si la cadena contiene \"ft\"\n",
    "    if isinstance(valor, str) and \"ft\" in valor:\n",
    "        if \"Less Than\" in valor:\n",
    "            # Para \"Less Than 8 ft.\"  \n",
    "            return \"Less Than 2.44 m\"\n",
    "        elif \"24+\" in valor:\n",
    "            # Para \"24+ ft.\"  \n",
    "            return \"More Than 7.32 m\"\n",
    "        elif \"16-24\" in valor:\n",
    "            # Para \"16-24 ft.\"  \n",
    "            return \"4.88-7.32 m\"\n",
    "        elif \"8-16\" in valor:\n",
    "            # Para \"8-16 ft.\"  \n",
    "            return \"2.44-4.88 m\"\n",
    "    return valor\n"
   ]
  },
  {
   "cell_type": "code",
   "execution_count": 16,
   "id": "f2477e59-43c1-4313-b596-3b80b0492d91",
   "metadata": {
    "tags": []
   },
   "outputs": [
    {
     "name": "stdout",
     "output_type": "stream",
     "text": [
      "    SHOT_ZONE_RANGE SHOT_ZONE_RANGE_METERS\n",
      "0   Less Than 8 ft.       Less Than 2.44 m\n",
      "1   Less Than 8 ft.       Less Than 2.44 m\n",
      "2           24+ ft.       More Than 7.32 m\n",
      "3           24+ ft.       More Than 7.32 m\n",
      "4           24+ ft.       More Than 7.32 m\n",
      "5           24+ ft.       More Than 7.32 m\n",
      "6   Less Than 8 ft.       Less Than 2.44 m\n",
      "7   Less Than 8 ft.       Less Than 2.44 m\n",
      "8           24+ ft.       More Than 7.32 m\n",
      "9           24+ ft.       More Than 7.32 m\n",
      "10  Less Than 8 ft.       Less Than 2.44 m\n",
      "11  Less Than 8 ft.       Less Than 2.44 m\n",
      "12  Less Than 8 ft.       Less Than 2.44 m\n",
      "13  Less Than 8 ft.       Less Than 2.44 m\n",
      "14  Less Than 8 ft.       Less Than 2.44 m\n",
      "15  Less Than 8 ft.       Less Than 2.44 m\n",
      "16  Less Than 8 ft.       Less Than 2.44 m\n",
      "17  Less Than 8 ft.       Less Than 2.44 m\n",
      "18  Less Than 8 ft.       Less Than 2.44 m\n",
      "19  Less Than 8 ft.       Less Than 2.44 m\n",
      "20  Less Than 8 ft.       Less Than 2.44 m\n",
      "21  Less Than 8 ft.       Less Than 2.44 m\n",
      "22  Less Than 8 ft.       Less Than 2.44 m\n",
      "23  Less Than 8 ft.       Less Than 2.44 m\n",
      "24          24+ ft.       More Than 7.32 m\n",
      "25          24+ ft.       More Than 7.32 m\n",
      "26  Less Than 8 ft.       Less Than 2.44 m\n",
      "27  Less Than 8 ft.       Less Than 2.44 m\n",
      "28  Less Than 8 ft.       Less Than 2.44 m\n",
      "29  Less Than 8 ft.       Less Than 2.44 m\n",
      "30          24+ ft.       More Than 7.32 m\n",
      "31          24+ ft.       More Than 7.32 m\n",
      "32  Less Than 8 ft.       Less Than 2.44 m\n",
      "33  Less Than 8 ft.       Less Than 2.44 m\n",
      "34  Less Than 8 ft.       Less Than 2.44 m\n",
      "35  Less Than 8 ft.       Less Than 2.44 m\n",
      "36  Less Than 8 ft.       Less Than 2.44 m\n",
      "37  Less Than 8 ft.       Less Than 2.44 m\n",
      "38          24+ ft.       More Than 7.32 m\n",
      "39          24+ ft.       More Than 7.32 m\n",
      "40  Less Than 8 ft.       Less Than 2.44 m\n",
      "41  Less Than 8 ft.       Less Than 2.44 m\n",
      "42  Less Than 8 ft.       Less Than 2.44 m\n",
      "43  Less Than 8 ft.       Less Than 2.44 m\n",
      "44  Less Than 8 ft.       Less Than 2.44 m\n",
      "45  Less Than 8 ft.       Less Than 2.44 m\n",
      "46  Less Than 8 ft.       Less Than 2.44 m\n",
      "47  Less Than 8 ft.       Less Than 2.44 m\n",
      "48  Less Than 8 ft.       Less Than 2.44 m\n",
      "49  Less Than 8 ft.       Less Than 2.44 m\n",
      "50          24+ ft.       More Than 7.32 m\n",
      "51          24+ ft.       More Than 7.32 m\n",
      "52  Less Than 8 ft.       Less Than 2.44 m\n",
      "53  Less Than 8 ft.       Less Than 2.44 m\n",
      "54        16-24 ft.            4.88-7.32 m\n",
      "55        16-24 ft.            4.88-7.32 m\n"
     ]
    }
   ],
   "source": [
    "# Aplicar la conversión en la columna 'SHOT_ZONE_RANGE'\n",
    "df['SHOT_ZONE_RANGE_METERS'] = df['SHOT_ZONE_RANGE'].apply(convertir_a_metros)\n",
    "# Verificar los resultados\n",
    "print(df[['SHOT_ZONE_RANGE', 'SHOT_ZONE_RANGE_METERS']].head(56))"
   ]
  },
  {
   "cell_type": "markdown",
   "id": "535306a8-c9db-4939-bfbe-05a76f481d83",
   "metadata": {},
   "source": [
    "## CAMBIAR FORMATO FECHA"
   ]
  },
  {
   "cell_type": "code",
   "execution_count": 17,
   "id": "e84765b1-5a56-444f-b36a-6a8d2c97da86",
   "metadata": {},
   "outputs": [],
   "source": [
    "df['GAME_DATE'] = pd.to_datetime(df['GAME_DATE'], format='%Y%m%d')"
   ]
  },
  {
   "cell_type": "markdown",
   "id": "8f8507f6-d913-4aac-949f-1755dddfca63",
   "metadata": {},
   "source": [
    "## ELIMINAR COLUMNAS"
   ]
  },
  {
   "cell_type": "code",
   "execution_count": 18,
   "id": "c751c2da-552a-4a79-8af5-f846010fda65",
   "metadata": {
    "tags": []
   },
   "outputs": [],
   "source": [
    "df.drop(columns=[\"HTM\", \"VTM\", \"SHOT_DISTANCE\", \"SHOT_ZONE_RANGE\",\n",
    "                 \"player_name\", \"GRID_TYPE\", \"GAME_EVENT_ID\"], inplace=True)"
   ]
  },
  {
   "cell_type": "markdown",
   "id": "debd3f50-6112-413e-9cd6-358ee0683a80",
   "metadata": {},
   "source": [
    "## ELMINAR TIROS DUPLICADOS"
   ]
  },
  {
   "cell_type": "code",
   "execution_count": 19,
   "id": "57f87cac-017c-4fb1-b250-996fe472ccaa",
   "metadata": {
    "tags": []
   },
   "outputs": [
    {
     "name": "stdout",
     "output_type": "stream",
     "text": [
      "Número de filas antes de eliminar duplicados: 259017\n"
     ]
    }
   ],
   "source": [
    "print(f\"Número de filas antes de eliminar duplicados: {len(df)}\")"
   ]
  },
  {
   "cell_type": "code",
   "execution_count": 20,
   "id": "f5e4986c-bb5a-4b11-8406-ae68e8171d03",
   "metadata": {
    "tags": []
   },
   "outputs": [
    {
     "name": "stdout",
     "output_type": "stream",
     "text": [
      "Número de filas después de eliminar duplicados: 233999\n"
     ]
    }
   ],
   "source": [
    "# aqui comparo todas las filas con valores (quitando el GAME_EVENT_ID que sean completamente identicos y elimino esas filas)\n",
    "df_cleaned = df.drop_duplicates(subset=list(df.columns.difference(['GAME_EVENT_ID']))).copy() #todo igual menos GAME_EVENT_ID\n",
    "print(f\"Número de filas después de eliminar duplicados: {len(df_cleaned)}\")"
   ]
  },
  {
   "cell_type": "code",
   "execution_count": 21,
   "id": "be16dabd-ac9c-4ac0-8a5c-7831b1680e7a",
   "metadata": {
    "tags": []
   },
   "outputs": [
    {
     "data": {
      "text/plain": [
       "25018"
      ]
     },
     "execution_count": 21,
     "metadata": {},
     "output_type": "execute_result"
    }
   ],
   "source": [
    "# filas eliminadas:\n",
    "259017 - 233999"
   ]
  },
  {
   "cell_type": "code",
   "execution_count": 22,
   "id": "4bab9feb-bac2-476a-8f17-b2d65ee8e221",
   "metadata": {
    "tags": []
   },
   "outputs": [
    {
     "name": "stdout",
     "output_type": "stream",
     "text": [
      "Empty DataFrame\n",
      "Columns: [GAME_ID, PLAYER_ID, PLAYER_NAME, TEAM_ID, TEAM_NAME, PERIOD, MINUTES_REMAINING, SECONDS_REMAINING, EVENT_TYPE, ACTION_TYPE, SHOT_TYPE, SHOT_ZONE_BASIC, SHOT_ZONE_AREA, LOC_X, LOC_Y, SHOT_ATTEMPTED_FLAG, SHOT_MADE_FLAG, GAME_DATE, Season Type, HOME_TEAM_NAME, AWAY_TEAM_NAME, LOCATION, POS, SHOT_DISTANCE_METERS, SHOT_ZONE_RANGE_METERS]\n",
      "Index: []\n",
      "\n",
      "[0 rows x 25 columns]\n"
     ]
    }
   ],
   "source": [
    "duplicates = df_cleaned.duplicated(keep=False)  # keep=False muestra todos los duplicados\n",
    "print(df_cleaned[duplicates])  # Si hay filas repetidas, aquí las verás"
   ]
  },
  {
   "cell_type": "code",
   "execution_count": 23,
   "id": "c080332b-c95b-4170-806d-f728913a595e",
   "metadata": {
    "tags": []
   },
   "outputs": [],
   "source": [
    "# Crear una nueva columna NEW_GAME_EVENT_ID basada en todas las columnas  menos game event id\n",
    "\n",
    "df_cleaned.loc[:, 'NEW_GAME_EVENT_ID'] = df_cleaned.groupby(\n",
    "    ['GAME_ID', 'PLAYER_ID', 'PLAYER_NAME', 'TEAM_ID',\n",
    "       'TEAM_NAME', 'PERIOD', 'MINUTES_REMAINING', 'SECONDS_REMAINING',\n",
    "       'EVENT_TYPE', 'ACTION_TYPE', 'SHOT_TYPE', 'SHOT_ZONE_BASIC',\n",
    "       'SHOT_ZONE_AREA', 'LOC_X', 'LOC_Y', 'SHOT_ATTEMPTED_FLAG',\n",
    "       'SHOT_MADE_FLAG', 'GAME_DATE', 'Season Type', 'HOME_TEAM_NAME',\n",
    "       'AWAY_TEAM_NAME', 'LOCATION', 'POS', 'SHOT_DISTANCE_METERS',\n",
    "       'SHOT_ZONE_RANGE_METERS']\n",
    ").ngroup() + 1 "
   ]
  },
  {
   "cell_type": "code",
   "execution_count": 24,
   "id": "049c4f49-05e8-432c-a6cd-651c1246363b",
   "metadata": {},
   "outputs": [],
   "source": [
    "# vuelvo a verificar si hay duplicados"
   ]
  },
  {
   "cell_type": "code",
   "execution_count": 25,
   "id": "1b9a93da-d712-4ba1-a559-eb3673f42646",
   "metadata": {},
   "outputs": [
    {
     "name": "stdout",
     "output_type": "stream",
     "text": [
      "Empty DataFrame\n",
      "Columns: [GAME_ID, PLAYER_ID, PLAYER_NAME, TEAM_ID, TEAM_NAME, PERIOD, MINUTES_REMAINING, SECONDS_REMAINING, EVENT_TYPE, ACTION_TYPE, SHOT_TYPE, SHOT_ZONE_BASIC, SHOT_ZONE_AREA, LOC_X, LOC_Y, SHOT_ATTEMPTED_FLAG, SHOT_MADE_FLAG, GAME_DATE, Season Type, HOME_TEAM_NAME, AWAY_TEAM_NAME, LOCATION, POS, SHOT_DISTANCE_METERS, SHOT_ZONE_RANGE_METERS, NEW_GAME_EVENT_ID]\n",
      "Index: []\n",
      "\n",
      "[0 rows x 26 columns]\n"
     ]
    }
   ],
   "source": [
    "event_counts = df_cleaned['NEW_GAME_EVENT_ID'].value_counts()\n",
    "duplicate_ids = event_counts[event_counts > 1].index\n",
    "\n",
    "print(df_cleaned[df_cleaned['NEW_GAME_EVENT_ID'].isin(duplicate_ids)])"
   ]
  },
  {
   "cell_type": "code",
   "execution_count": 26,
   "id": "0cb5bab2-47b3-479f-b861-9e30d77de773",
   "metadata": {},
   "outputs": [],
   "source": [
    "#meuvo al columna NEW_EVENT_GAME_ID a la segunda posición, como estaba la otra:\n",
    "# Guardamos las columnas en una lista\n",
    "cols = df_cleaned.columns.tolist()\n",
    "\n",
    "# Quitamos la columna 'NEW_GAME_EVENT_ID' de su posición original\n",
    "cols.remove('NEW_GAME_EVENT_ID')\n",
    "\n",
    "# Insertamos la columna 'NEW_GAME_EVENT_ID' en la segunda posición\n",
    "cols.insert(1, 'NEW_GAME_EVENT_ID')\n",
    "\n",
    "# Reordenamos el dataframe según esta nueva lista de columnas\n",
    "df_cleaned = df_cleaned[cols]"
   ]
  },
  {
   "cell_type": "code",
   "execution_count": 27,
   "id": "26647203-27a1-4f50-ae32-7feb6ff1762d",
   "metadata": {
    "tags": []
   },
   "outputs": [],
   "source": [
    "# Paso Season Type a mayuscula\n",
    "df.columns = df.columns.str.upper()"
   ]
  },
  {
   "cell_type": "code",
   "execution_count": 28,
   "id": "283c4939-280b-4038-9a6c-c59e61c856e0",
   "metadata": {
    "tags": []
   },
   "outputs": [],
   "source": [
    "# guardo el csv\n",
    "df_cleaned.to_csv('../data/NBA_BBDD_CLEAN.csv', index=False)"
   ]
  },
  {
   "cell_type": "code",
   "execution_count": 3,
   "id": "c3ce74c0-068c-4e15-98de-66b1544a4de5",
   "metadata": {
    "tags": []
   },
   "outputs": [],
   "source": [
    "df = pd.read_csv(\"../data/NBA_BBDD_CLEAN.csv\")"
   ]
  },
  {
   "cell_type": "code",
   "execution_count": 4,
   "id": "e4f37ee9-6725-4480-addb-a00e7711e2ce",
   "metadata": {
    "tags": []
   },
   "outputs": [
    {
     "data": {
      "text/plain": [
       "Index(['GAME_ID', 'NEW_GAME_EVENT_ID', 'PLAYER_ID', 'PLAYER_NAME', 'TEAM_ID',\n",
       "       'TEAM_NAME', 'PERIOD', 'MINUTES_REMAINING', 'SECONDS_REMAINING',\n",
       "       'EVENT_TYPE', 'ACTION_TYPE', 'SHOT_TYPE', 'SHOT_ZONE_BASIC',\n",
       "       'SHOT_ZONE_AREA', 'LOC_X', 'LOC_Y', 'SHOT_ATTEMPTED_FLAG',\n",
       "       'SHOT_MADE_FLAG', 'GAME_DATE', 'Season Type', 'HOME_TEAM_NAME',\n",
       "       'AWAY_TEAM_NAME', 'LOCATION', 'POS', 'SHOT_DISTANCE_METERS',\n",
       "       'SHOT_ZONE_RANGE_METERS'],\n",
       "      dtype='object')"
      ]
     },
     "execution_count": 4,
     "metadata": {},
     "output_type": "execute_result"
    }
   ],
   "source": [
    "df.columns"
   ]
  },
  {
   "cell_type": "code",
   "execution_count": 4,
   "id": "dcf7ada6-4dca-4183-b218-ebdd18d742de",
   "metadata": {
    "tags": []
   },
   "outputs": [
    {
     "data": {
      "text/plain": [
       "233999"
      ]
     },
     "execution_count": 4,
     "metadata": {},
     "output_type": "execute_result"
    }
   ],
   "source": [
    "df['NEW_GAME_EVENT_ID'].nunique()"
   ]
  },
  {
   "cell_type": "code",
   "execution_count": 17,
   "id": "1fe8a9d3-335a-409a-aeca-e03d2e8900b0",
   "metadata": {
    "tags": []
   },
   "outputs": [],
   "source": [
    "lanzamientos = df.groupby(\"PLAYER_NAME\")[\"SHOT_ATTEMPTED_FLAG\"].sum()"
   ]
  },
  {
   "cell_type": "code",
   "execution_count": 18,
   "id": "c1588614-b60b-44ab-8768-906c34b14cbb",
   "metadata": {
    "tags": []
   },
   "outputs": [
    {
     "data": {
      "text/plain": [
       "PLAYER_NAME\n",
       "Luka Doncic                2156\n",
       "Jalen Brunson              1988\n",
       "Anthony Edwards            1882\n",
       "Jayson Tatum               1798\n",
       "Shai Gilgeous-Alexander    1711\n",
       "Name: SHOT_ATTEMPTED_FLAG, dtype: int64"
      ]
     },
     "execution_count": 18,
     "metadata": {},
     "output_type": "execute_result"
    }
   ],
   "source": [
    "lanzamientos.sort_values(ascending= False).head(5)"
   ]
  },
  {
   "cell_type": "markdown",
   "id": "1b7acd32-422b-4b2e-8fa9-58b8ce70a63d",
   "metadata": {},
   "source": [
    "---------------------------------------\n",
    "------------------------------------------\n"
   ]
  },
  {
   "cell_type": "markdown",
   "id": "a1fc4f20-6c43-4503-a139-aa72c854a962",
   "metadata": {},
   "source": [
    "# RESUMEN TRABAJO LIMPIEZA"
   ]
  },
  {
   "cell_type": "markdown",
   "id": "6fc80228-dbd0-48fa-b7bd-af470b6e5e4b",
   "metadata": {},
   "source": [
    "### PROBLEMAS DEL DATASET ORIGINAL\n"
   ]
  },
  {
   "cell_type": "markdown",
   "id": "fffe5016-f33e-42bc-9019-63349d8d538f",
   "metadata": {},
   "source": [
    "***Datos repetidos***: Probablemente provenientes de la unión de varias tablas.\n",
    "\n",
    "***Inconsistencias en columnas:***\n",
    "\n",
    "- Columnas contradictorias (ejemplo: partido en casa o fuera).\n",
    "\n",
    "IDs de tiros repetidos, lo que generaba duplicados.\n",
    "\n",
    "***Falta de estandarización:***\n",
    "\n",
    "- Formatos de texto inconsistentes (mayúsculas/minúsculas).\n",
    "\n",
    "- Columnas con información redundante o poco útil."
   ]
  },
  {
   "cell_type": "markdown",
   "id": "094aac68-f488-4c5b-bff1-1bdd0699cd92",
   "metadata": {},
   "source": [
    "### TRANSFORMACIÓN\n"
   ]
  },
  {
   "cell_type": "markdown",
   "id": "aba40e6e-6d50-49dc-9b7f-bd92c9523336",
   "metadata": {},
   "source": [
    "***Unión con otra BBDD:***\n",
    "\n",
    "- Se agregaron columnas para identificar si el equipo era local o visitante.\n",
    "\n",
    "- Esto ayudó a enriquecer la información y mejorar la consistencia.\n",
    "\n"
   ]
  },
  {
   "cell_type": "markdown",
   "id": "6e2c389e-54c9-4d36-adae-266f431e467b",
   "metadata": {},
   "source": [
    "### TRABAJO DE LIMPIEZA"
   ]
  },
  {
   "cell_type": "markdown",
   "id": "e51b28e9-53e8-45f8-bf23-ce04f31356ba",
   "metadata": {},
   "source": [
    "***Eliminación de columnas innecesarias:***\n",
    "\n",
    "- Se quitaron columnas que no aportaban información útil.\n",
    "\n",
    "***Estandarización de formatos:***\n",
    "\n",
    "- Unificación de mayúsculas/minúsculas en los títulos de las columnas.\n",
    "\n",
    "- Cambio de formato a fechas en columnas relevantes.\n",
    "\n",
    "***Traducción y normalización: ***\n",
    "\n",
    "- Traducción de posiciones de jugadores al español para facilitar su comprensión.\n",
    "\n",
    "***Tratamiento de valores nulos:***\n",
    "\n",
    "- Relleno de posiciones de jugadores que tenían valores nulos.\n",
    "\n",
    "***Conversión de unidades:***\n",
    "\n",
    "- Cambio de pies a metros en columnas de distancias.\n",
    "\n",
    "- Corrección de columnas que mezclaban texto con distancias (ejemplo: \"2 m y 44\"  \"2.44 metros\")\n",
    "\n",
    "***Eliminación de duplicados:***\n",
    "\n",
    "- ***Problema***: Los IDs de tiros estaban mal asignados, lo que generaba duplicados.\n",
    "\n",
    "- ***Solución:***\n",
    "\n",
    "        - Comparación de todos los valores de los tiros (excepto el ID) para identificar duplicados.\n",
    "\n",
    "        - Eliminación de aproximadamente 25,000 filas duplicadas.\n",
    "\n",
    "        - Asignación de un nuevo ID único a cada tiro.\n",
    "\n",
    "        - Resultado: El dataset final quedó con aproximadamente 234,000 filas.\n",
    "\n",
    "\n"
   ]
  },
  {
   "cell_type": "markdown",
   "id": "837f2b4a-098a-4fe5-bc91-0c7ce34cc6f6",
   "metadata": {},
   "source": [
    "### RESULTADO FINAL\n"
   ]
  },
  {
   "cell_type": "markdown",
   "id": "4d8d5096-6354-4c2a-ac75-0d8fb83b9a5d",
   "metadata": {},
   "source": [
    "- Dataset limpio, consistente y listo para su análisis.\n",
    "\n",
    "- Mayor claridad en la información, con formatos estandarizados y sin duplicados.\n",
    "\n",
    "- Información enriquecida con la unión de la segunda BBDD."
   ]
  }
 ],
 "metadata": {
  "kernelspec": {
   "display_name": "Python 3 (ipykernel)",
   "language": "python",
   "name": "python3"
  },
  "language_info": {
   "codemirror_mode": {
    "name": "ipython",
    "version": 3
   },
   "file_extension": ".py",
   "mimetype": "text/x-python",
   "name": "python",
   "nbconvert_exporter": "python",
   "pygments_lexer": "ipython3",
   "version": "3.9.18"
  }
 },
 "nbformat": 4,
 "nbformat_minor": 5
}
