{
 "cells": [
  {
   "cell_type": "markdown",
   "id": "bbe84585-0933-45e6-9f19-35ebb7a8659c",
   "metadata": {},
   "source": [
    "**Explicación de las Columnas del Dataset de Tiros en la NBA**\n",
    "\n",
    "### **1. Identificadores**\n",
    "- **`GRID_TYPE`**: Tipo de rejilla usada para rastrear los tiros (normalmente \"Shot Chart Detail\").\n",
    "- **`GAME_ID`**: ID único del partido.\n",
    "- **`GAME_EVENT_ID`**: ID único del evento dentro del partido (cada tiro)\n",
    "- **`PLAYER_ID`**: ID único del jugador.\n",
    "- **`PLAYER_NAME`**: Nombre del jugador.\n",
    "- **`TEAM_ID`**: ID único del equipo.\n",
    "- **`TEAM_NAME`**: Nombre del equipo.\n",
    "\n",
    "### **2. Información del Partido**\n",
    "- **`PERIOD`**: Período del partido (1 = primer cuarto, 2 = segundo cuarto, etc.).\n",
    "- **`MINUTES_REMAINING`**: Minutos restantes en el período cuando ocurrió el tiro.\n",
    "- **`SECONDS_REMAINING`**: Segundos restantes en el período cuando ocurrió el tiro.\n",
    "- **`GAME_DATE`**: Fecha del partido (formato AAAAMMDD).\n",
    "\n",
    "### **3. Detalles del Tiro**\n",
    "- **`EVENT_TYPE`**: Tipo de evento (Ejemplo: \"Shot\" para un intento de tiro).\n",
    "- **`ACTION_TYPE`**: Tipo de acción (Ejemplo: \"Jump Shot\", \"Layup\", \"Dunk\").\n",
    "- **`SHOT_TYPE`**: Tipo de tiro (Ejemplo: \"2PT Field Goal\", \"3PT Field Goal\").\n",
    "- **`SHOT_ZONE_BASIC`**: Zona básica del tiro (Ejemplo: \"Mid-Range\", \"Restricted Area\").\n",
    "- **`SHOT_ZONE_AREA`**: Área específica del tiro (Ejemplo: \"Left Corner\", \"Right Wing\").\n",
    "- **`SHOT_ZONE_RANGE`**: Distancia del tiro categorizada (Ejemplo: \"<8 ft.\", \"16-24 ft.\").\n",
    "- **`SHOT_DISTANCE`**: Distancia exacta del tiro en pies.\n",
    "- **`LOC_X`**: Coordenada X de la ubicación del tiro en la cancha.\n",
    "- **`LOC_Y`**: Coordenada Y de la ubicación del tiro en la cancha.\n",
    "- **`SHOT_ATTEMPTED_FLAG`**: Indica si el tiro fue intentado (1 = Sí, 0 = No).\n",
    "- **`SHOT_MADE_FLAG`**: Indica si el tiro fue encestado (1 = Sí, 0 = No).\n",
    "\n",
    "### **4. Ubicación del Partido**\n",
    "- **`HOME_TEAM_NAME`**: Nombre del equipo local.\n",
    "- **`AWAY_TEAM_NAME`**: Nombre del equipo visitante.\n",
    "- **`HTM`**: Código del equipo local (Ejemplo: \"TOR\" para Toronto Raptors).\n",
    "- **`VTM`**: Código del equipo visitante (Ejemplo: \"BOS\" para Boston Celtics).\n",
    "- **`LOCATION`**: Si el tiro fue en casa (\"HOME\") o fuera (\"AWAY\").\n",
    "- **`Season Type`**: Tipo de temporada (\"Regular Season\" o \"Playoffs\").\n",
    "\n",
    "### **5. Posibles Usos del Dataset**\n",
    "✔ **Análisis de Precisión de Tiros**: Comparar zonas donde los jugadores son más efectivos.\n",
    "✔ **Predicción de Éxito del Tiro**: Usar Machine Learning para predecir encestes.\n",
    "✔ **Comparación de Jugadores o Equipos**: Analizar tendencias de tiro por temporada.\n",
    "✔ **Visualización en un Mapa de la Cancha**: Mostrar un \"shot chart\" de aciertos y fallos.\n",
    "\n"
   ]
  },
  {
   "cell_type": "markdown",
   "id": "a19a6c95-2e15-45f7-9ea8-6a581c01fd12",
   "metadata": {},
   "source": [
    "# *Actualizado*"
   ]
  },
  {
   "cell_type": "markdown",
   "id": "0aa14655-bce6-4c12-b55d-a2a3555a1623",
   "metadata": {},
   "source": [
    "# Identificadores clave\n",
    "1) GAME_ID: ID único del partido.\n",
    "2) NEW_GAME_EVENT_ID: ID único del evento dentro del partido (cada tiro tiene uno).\n",
    "3) PLAYER_ID: ID único del jugador.\n",
    "4) PLAYER_NAME: Nombre del jugador.\n",
    "5) TEAM_ID: ID del equipo.\n",
    "6) TEAM_NAME: Nombre del equipo.\n",
    "# 🏀 Información del partido y contexto del tiro\n",
    "1) PERIOD: Número del período (1, 2, 3, 4 o tiempo extra).\n",
    "2) MINUTES_REMAINING: Minutos restantes en el período cuando ocurrió el tiro.\n",
    "3) SECONDS_REMAINING: Segundos restantes en el período cuando ocurrió el tiro.\n",
    "# 🎯 Información sobre el tiro\n",
    "1) EVENT_TYPE: Tipo de evento (generalmente \"Shot\" para tiros).\n",
    "2) ACTION_TYPE: Tipo de tiro (ej., \"Jump Shot\", \"Layup\", etc.).\n",
    "3) SHOT_TYPE: Si es un 2-pointer o 3-pointer.\n",
    "4) SHOT_ZONE_BASIC: Zona básica del tiro (ej., \"Mid-Range\", \"Restricted Area\").\n",
    "5) SHOT_ZONE_AREA: Zona de la cancha (ej., \"Right Side\", \"Center\").\n",
    "6) SHOT_ZONE_RANGE_METERS: Rango de distancia del tiro en metros.\n",
    "7) SHOT_DISTANCE_METERS: Distancia exacta del tiro en metros.\n",
    "8) LOC_X, LOC_Y: Coordenadas X e Y del tiro en la cancha.\n",
    "9) SHOT_ATTEMPTED_FLAG: Indica si el tiro fue intentado (1 = Sí).\n",
    "10) SHOT_MADE_FLAG: Indica si el tiro fue encestado (1 = Sí, 0 = Fallado).\n",
    "# 📅 Datos adicionales del partido\n",
    "1) GAME_DATE: Fecha del partido.\n",
    "2) SEASON TYPE: Tipo de temporada (Regular Season, Playoffs).\n",
    "3) HOME_TEAM_NAME: Nombre del equipo local.\n",
    "4) AWAY_TEAM_NAME: Nombre del equipo visitante.\n",
    "5) LOCATION: Lugar del partido (casa o visitante).\n",
    "# 🏀 Posición y contexto del jugador\n",
    "1) POS: Posición del jugador (PG, SG, SF, PF, C)."
   ]
  },
  {
   "cell_type": "code",
   "execution_count": null,
   "id": "3c03e5cb-5a73-41ef-9a27-b9e71a82d9ec",
   "metadata": {},
   "outputs": [],
   "source": []
  }
 ],
 "metadata": {
  "kernelspec": {
   "display_name": "Python 3 (ipykernel)",
   "language": "python",
   "name": "python3"
  },
  "language_info": {
   "codemirror_mode": {
    "name": "ipython",
    "version": 3
   },
   "file_extension": ".py",
   "mimetype": "text/x-python",
   "name": "python",
   "nbconvert_exporter": "python",
   "pygments_lexer": "ipython3",
   "version": "3.11.5"
  }
 },
 "nbformat": 4,
 "nbformat_minor": 5
}
