{
 "cells": [
  {
   "cell_type": "code",
   "execution_count": 1,
   "metadata": {
    "id": "42VZYPXR25Nt"
   },
   "outputs": [],
   "source": [
    "import pandas as pd\n",
    "import numpy as np\n",
    "import matplotlib.pyplot as plt\n",
    "import seaborn as sns"
   ]
  },
  {
   "cell_type": "code",
   "execution_count": 2,
   "metadata": {
    "id": "VuzgW3ZXd1Tq"
   },
   "outputs": [],
   "source": [
    "df_regular = pd.read_csv(\"2023-2024 NBA Player Stats - Regular.csv\", encoding=\"ISO-8859-1\", sep=\";\")\n",
    "df_playoffs = pd.read_csv(\"2023-2024 NBA Player Stats - Playoffs.csv\", encoding=\"ISO-8859-1\", sep=\";\")"
   ]
  },
  {
   "cell_type": "code",
   "execution_count": 3,
   "metadata": {
    "colab": {
     "base_uri": "https://localhost:8080/"
    },
    "id": "A8Lrz64Ed226",
    "outputId": "eb977368-09bf-487c-e771-a1b1e8cc66a6"
   },
   "outputs": [
    {
     "name": "stdout",
     "output_type": "stream",
     "text": [
      "              Player   Rk   Pos  Age      Tm   G  GS    MP    FG   FGA  ...  \\\n",
      "0         A.J. Green  244  SGSG   48  MILMIL  62   0  22.2   2.5   6.2  ...   \n",
      "1        A.J. Lawson  396  SGSG   46  DALDAL  52   0  10.4   1.7   3.8  ...   \n",
      "2         AJ Griffin  190    SF   20     ATL  20   0   8.6   0.9   3.1  ...   \n",
      "3       Aaron Gordon  237  PFPF   56  DENDEN  85  85  68.6  11.3  19.6  ...   \n",
      "4      Aaron Holiday  221    PG   27     HOU  78   1  16.3   2.4   5.3  ...   \n",
      "..               ...  ...   ...  ...     ...  ..  ..   ...   ...   ...  ...   \n",
      "567      Zach LaVine  289    SG   28     CHI  25  23  34.9   6.8  15.0  ...   \n",
      "568   Zavier Simpson  466    PG   26     MEM   7   0  23.0   2.4   7.7  ...   \n",
      "569       Zeke Nnaji  522  PFPF   46  DENDEN  61   0  14.6   1.9   3.6  ...   \n",
      "570  Ziaire Williams  559    SF   22     MEM  51  15  20.4   2.9   7.4  ...   \n",
      "571  Zion Williamson  560    PF   23     NOP  70  70  31.5   8.9  15.6  ...   \n",
      "\n",
      "       FT%  ORB  DRB   TRB  AST  STL  BLK  TOV   PF   PTS  \n",
      "0    1.895  0.2  2.5   2.6  0.8  0.2  0.1  0.4  2.4   7.3  \n",
      "1    1.152  0.4  1.1   1.5  0.5  0.2  0.2  0.3  0.6   4.3  \n",
      "2    1.000  0.1  0.8   0.9  0.3  0.1  0.1  0.4  0.3   2.4  \n",
      "3    1.479  5.4  8.4  13.8  7.9  1.6  1.2  2.9  4.2  28.2  \n",
      "4    0.921  0.3  1.3   1.6  1.8  0.5  0.1  0.7  1.6   6.6  \n",
      "..     ...  ...  ...   ...  ...  ...  ...  ...  ...   ...  \n",
      "567  0.854  0.3  4.8   5.2  3.9  0.8  0.3  2.1  2.3  19.5  \n",
      "568  0.750  0.6  2.3   2.9  3.6  1.0  0.4  1.4  1.6   6.0  \n",
      "569  1.177  1.8  1.1   2.9  0.6  0.3  1.0  1.2  1.7   4.9  \n",
      "570  0.827  0.7  2.8   3.5  1.5  0.7  0.2  1.3  1.7   8.2  \n",
      "571  0.702  1.7  4.1   5.8  5.0  1.1  0.7  2.8  2.3  22.9  \n",
      "\n",
      "[572 rows x 30 columns]\n"
     ]
    }
   ],
   "source": [
    "import pandas as pd\n",
    "\n",
    "# Supongamos que tus DataFrames se llaman df_regular y df_playoffs\n",
    "# y tienen una columna \"Jugador\" para identificar a los jugadores.\n",
    "\n",
    "# Concatenar los dos DataFrames\n",
    "df_completo = pd.concat([df_regular, df_playoffs])\n",
    "\n",
    "# Agrupar por jugador y sumar las estadísticas\n",
    "df_total = df_completo.groupby('Player', as_index=False).sum()\n",
    "\n",
    "# Mostrar el resultado\n",
    "print(df_total)"
   ]
  },
  {
   "cell_type": "code",
   "execution_count": 4,
   "metadata": {
    "id": "hiV2TEp-d4NS"
   },
   "outputs": [],
   "source": [
    "sustituciones = {\n",
    "    \"D?vis Bert?ns\": \"Davis Bertans\",\n",
    "    \"A.J. Green\": \"AJ Green\",\n",
    "    \"A.J. Lawson\": \"AJ Lawson\",\n",
    "    \"Boban Marjanovi?\": \"Boban Marjanovic\",\n",
    "    \"Bogdan Bogdanovi?\": \"Bogdan Bogdanovic\",\n",
    "    \"Bojan Bogdanovi?\": \"Bojan Bogdanovic\",\n",
    "    \"D'Moi Hodge\": \"D’Moi Hodge\",\n",
    "    \"Dario ari?\": \"Dario Saric\",\n",
    "    \"Dennis Schröder\": \"Dennis Schroder\",\n",
    "    \"Filip Petruev\": \"Filip Petrusev\",\n",
    "    \"Harry Giles\": \"Harry Giles III\",\n",
    "    \"Jeenathan Williams\": \"Nate Williams\",\n",
    "    \"Jeff Dowtin\": \"Jeff Dowtin Jr.\",\n",
    "    \"Jermaine Samuels\": \"Jermaine Samuels Jr.\",\n",
    "    \"Jonas Valan?i?nas\": \"Jonas Valanciunas\",\n",
    "    \"Jusuf Nurki?\": \"Jusuf Nurkic\",\n",
    "    \"Kevin Knox\": \"Kevin Knox II\",\n",
    "    \"Kristaps Porzi??is\": \"Kristaps Porzingis\",\n",
    "    \"Luka Don?i?\": \"Luka Doncic\",\n",
    "    \"Luka amani?\": \"Luka Samanic\",\n",
    "    \"Marcus Morris\": \"Marcus Morris Sr.\",\n",
    "    \"Matthew Hurt\": \"Matt Hurt\",\n",
    "    \"Moussa Diabaté\": \"Moussa Diabate\",\n",
    "    \"Mãozinha Pereira\": \"Maozinha Pereira\",\n",
    "    \"Nikola Joki?\": \"Nikola Jovic\",\n",
    "    \"Nikola Jovi?\": \"Nikola Jovic\",\n",
    "    \"Nikola Vu?evi?\": \"Nikola Vucevic\",\n",
    "    \"Reggie Bullock\": \"Reggie Bullock Jr.\",\n",
    "    \"Robert Williams\": \"Robert Williams III\",\n",
    "    \"Théo Maledon\": \"Theo Maledon\",\n",
    "    \"Vasilije Mici?\": \"Vasilije Micic\",\n",
    "    \"Xavier Tillman Sr.\": \"Xavier Tillman\"\n",
    "}\n",
    "\n",
    "# Aplicar las sustituciones en la columna \"Player\" de df_total\n",
    "df_total['Player'] = df_total['Player'].replace(sustituciones)\n"
   ]
  },
  {
   "cell_type": "code",
   "execution_count": 5,
   "metadata": {
    "colab": {
     "base_uri": "https://localhost:8080/"
    },
    "id": "NCAbl5H1d6Sy",
    "outputId": "8164def8-bb3a-46b3-cc93-640cd2c72847"
   },
   "outputs": [
    {
     "name": "stdout",
     "output_type": "stream",
     "text": [
      "          Player   Rk   Pos  Age      Tm   G  GS    MP   FGA    FG%  ...  \\\n",
      "0       AJ Green  244  SGSG   48  MILMIL  62   0  22.2   6.2  0.798  ...   \n",
      "1      AJ Lawson  396  SGSG   46  DALDAL  52   0  10.4   3.8  0.890  ...   \n",
      "2     AJ Griffin  190    SF   20     ATL  20   0   8.6   3.1  0.290  ...   \n",
      "3   Aaron Gordon  237  PFPF   56  DENDEN  85  85  68.6  19.6  1.141  ...   \n",
      "4  Aaron Holiday  221    PG   27     HOU  78   1  16.3   5.3  0.446  ...   \n",
      "\n",
      "     2P%   eFG%    FT%   TRB  AST  STL  BLK   PTS  AST_TOV_Ratio  Efficiency  \n",
      "0  1.319  1.037  1.895   2.6  0.8  0.2  0.1   7.3       2.000000    0.481982  \n",
      "1  1.244  1.056  1.152   1.5  0.5  0.2  0.2   4.3       1.666667    0.605769  \n",
      "2  0.348  0.371  1.000   0.9  0.3  0.1  0.1   2.4       0.750000    0.418605  \n",
      "3  1.256  1.215  1.479  13.8  7.9  1.6  1.2  28.2       2.724138    0.727405  \n",
      "4  0.510  0.547  0.921   1.6  1.8  0.5  0.1   6.6       2.571429    0.613497  \n",
      "\n",
      "[5 rows x 23 columns]\n"
     ]
    }
   ],
   "source": [
    "### ACOPLAR COLUMNAS EN DF_TOTAL Y ELIMINAR ALGUNAS\n",
    "\n",
    "df_reducido = df_total.drop(columns=['ORB', 'DRB', 'FG', '3P', '2P', 'FTA', 'FT'])\n",
    "\n",
    "# Crear nuevas características\n",
    "df_reducido['AST_TOV_Ratio'] = df_total['AST'] / df_total['TOV']  # Ratio de asistencias por pérdida\n",
    "df_reducido['Efficiency'] = (df_total['PTS'] + df_total['AST'] + df_total['TRB']) / df_total['MP']  # Eficiencia total\n",
    "\n",
    "# Eliminar columnas poco relevantes\n",
    "df_reducido = df_reducido.drop(columns=['PF', 'TOV'])\n",
    "\n",
    "# Verificar el DataFrame reducido\n",
    "print(df_reducido.head())"
   ]
  },
  {
   "cell_type": "code",
   "execution_count": 6,
   "metadata": {
    "id": "NcHG31Lud7yi"
   },
   "outputs": [],
   "source": [
    "# MERGE CON DF ORIGINAL\n",
    "df1 = pd.read_csv(\"NBA_BBDD_CLEAN.csv\")"
   ]
  },
  {
   "cell_type": "code",
   "execution_count": 9,
   "metadata": {
    "colab": {
     "base_uri": "https://localhost:8080/"
    },
    "id": "TLynadojd-7q",
    "outputId": "cf7ab0a8-7c5f-4adf-a965-31a99e997d8b"
   },
   "outputs": [
    {
     "name": "stdout",
     "output_type": "stream",
     "text": [
      "Jugadores en df que no están en df_total:\n",
      "Empty DataFrame\n",
      "Columns: [PLAYER_NAME]\n",
      "Index: []\n",
      "\n",
      "Jugadores en df_total que no están en df1:\n",
      "              Player\n",
      "0           AJ Green\n",
      "1          AJ Lawson\n",
      "2         AJ Griffin\n",
      "3       Aaron Gordon\n",
      "4      Aaron Holiday\n",
      "..               ...\n",
      "567      Zach LaVine\n",
      "568   Zavier Simpson\n",
      "569       Zeke Nnaji\n",
      "570  Ziaire Williams\n",
      "571  Zion Williamson\n",
      "\n",
      "[496 rows x 1 columns]\n"
     ]
    }
   ],
   "source": [
    "# Jugadores en df que no están en df_total\n",
    "jugadores_faltantes_df1 = df1[~df1['PLAYER_NAME'].isin(df_reducido['Player'])]\n",
    "\n",
    "# Jugadores en df_total que no están en df\n",
    "jugadores_faltantes_df_reducido = df_reducido[~df_reducido['Player'].isin(df1['PLAYER_NAME'])]\n",
    "\n",
    "# Mostrar resultados\n",
    "print(\"Jugadores en df que no están en df_total:\")\n",
    "print(jugadores_faltantes_df1[['PLAYER_NAME']])\n",
    "\n",
    "print(\"\\nJugadores en df_total que no están en df1:\")\n",
    "print(jugadores_faltantes_df_reducido[['Player']])"
   ]
  },
  {
   "cell_type": "code",
   "execution_count": 10,
   "metadata": {
    "colab": {
     "base_uri": "https://localhost:8080/"
    },
    "id": "XT18Au3heAc4",
    "outputId": "1a051ad3-a9fd-4e23-ec7a-483e4a891728"
   },
   "outputs": [
    {
     "name": "stdout",
     "output_type": "stream",
     "text": [
      "['AJ Green' 'AJ Lawson' 'AJ Griffin' 'Aaron Gordon' 'Aaron Holiday'\n",
      " 'Aaron Nesmith' 'Aaron Wiggins' 'Adam Flagler' 'Adama Sanogo'\n",
      " 'Admiral Schofield' 'Al Horford' 'Alec Burks' 'Aleksej Pokusevski'\n",
      " 'Alex Caruso' 'Alex Fudge' 'Alex Len' 'Alondes Williams' 'Alperen Sengun'\n",
      " 'Amari Bailey' 'Amen Thompson' 'Amir Coffey' 'Andre Drummond'\n",
      " 'Andre Jackson Jr.' 'Andrew Funk' 'Andrew Nembhard' 'Andrew Wiggins'\n",
      " 'Anfernee Simons' 'Anthony Black' 'Anthony Davis' 'Anthony Edwards'\n",
      " 'Anthony Gill' 'Armoni Brooks' 'Ashton Hagans' 'Ausar Thompson'\n",
      " 'Austin Reaves' 'Ayo Dosunmu' 'Bam Adebayo' 'Ben Sheppard' 'Ben Simmons'\n",
      " 'Bennedict Mathurin' 'Bilal Coulibaly' 'Bismack Biyombo' 'Blake Wesley'\n",
      " 'Boban Marjanovic' 'Bobby Portis' 'Bogdan Bogdanovic' 'Bojan Bogdanovic'\n",
      " 'Bol Bol' 'Bones Hyland' 'Bradley Beal' 'Brandin Podziemski'\n",
      " 'Brandon Boston Jr.' 'Brandon Clarke' 'Brandon Ingram' 'Brandon Miller'\n",
      " 'Brandon Williams' 'Braxton Key' 'Brice Sensabaugh' 'Brook Lopez'\n",
      " 'Bruce Brown' 'Bruno Fernando' 'Bryce McGowens' 'Buddy Boeheim'\n",
      " 'Buddy Hield' 'CJ McCollum' 'Cade Cunningham' 'Caleb Houstan'\n",
      " 'Caleb Martin' 'Cam Reddish' 'Cam Thomas' 'Cam Whitmore'\n",
      " 'Cameron Johnson' 'Cameron Payne' 'Caris LeVert' 'Cason Wallace'\n",
      " 'Cedi Osman' 'Charles Bassey' 'Charlie Brown Jr.' 'Chet Holmgren'\n",
      " 'Chimezie Metu' 'Chris Boucher' 'Chris Duarte' 'Chris Livingston'\n",
      " 'Chris Paul' 'Christian Braun' 'Christian Wood' 'Chuma Okeke'\n",
      " 'Clint Capela' 'Coby White' 'Cody Martin' 'Cody Zeller' 'Colby Jones'\n",
      " 'Cole Anthony' 'Cole Swider' 'Colin Castleton' 'Collin Gillespie'\n",
      " 'Collin Sexton' 'Corey Kispert' 'Cory Joseph' 'Craig Porter Jr.'\n",
      " \"D'Angelo Russell\" 'D’Moi Hodge' 'D.J. Carton' 'D.J. Wilson'\n",
      " 'Davis Bertans' 'DaQuan Jeffries' 'Daishen Nix' 'Dalano Banton'\n",
      " 'Dalen Terry' 'Damian Jones' 'Damian Lillard' 'Daniel Gafford'\n",
      " 'Daniel Theis' 'Danilo Gallinari' 'Danny Green' 'Dante Exum'\n",
      " 'Danuel House Jr.' 'Dario Saric' 'Dariq Whitehead' 'Darius Bazley'\n",
      " 'Darius Garland' 'David Duke Jr.' 'David Roddy' 'Davion Mitchell'\n",
      " \"Day'Ron Sharpe\" \"De'Aaron Fox\" \"De'Andre Hunter\" \"De'Anthony Melton\"\n",
      " 'DeAndre Jordan' 'DeJon Jarreau' 'DeMar DeRozan' 'Dean Wade'\n",
      " 'Deandre Ayton' 'Dejounte Murray' 'Delon Wright' 'Deni Avdija'\n",
      " 'Dennis Schroder' 'Dennis Smith Jr.' 'Dereck Lively II' 'Dereon Seabron'\n",
      " 'Derrick Jones Jr.' 'Derrick Rose' 'Derrick White' 'Desmond Bane'\n",
      " 'Devin Booker' 'Devin Vassell' \"Devonte' Graham\" 'Dexter Dennis'\n",
      " 'Dillon Brooks' 'Dmytro Skapintsev' 'Domantas Sabonis' 'Dominick Barlow'\n",
      " 'Donovan Mitchell' 'Donte DiVincenzo' 'Dorian Finney-Smith'\n",
      " 'Doug McDermott' 'Draymond Green' 'Drew Eubanks' 'Drew Peterson'\n",
      " 'Dru Smith' 'Duncan Robinson' 'Duop Reath' 'Dwight Powell'\n",
      " 'Dylan Windler' 'Dyson Daniels' 'E.J. Liddell' 'Emoni Bates'\n",
      " 'Eric Gordon' 'Eugene Omoruyi' 'Evan Fournier' 'Evan Mobley'\n",
      " 'Filip Petrusev' 'Frank Ntilikina' 'Franz Wagner' 'Fred VanVleet'\n",
      " 'Furkan Korkmaz' 'GG Jackson II' 'Gabe Vincent' 'Garrett Temple'\n",
      " 'Garrison Mathews' 'Gary Harris' 'Gary Payton II' 'Gary Trent Jr.'\n",
      " 'Georges Niang' 'Giannis Antetokounmpo' 'Goga Bitadze' 'Gordon Hayward'\n",
      " 'Gradey Dick' 'Grant Williams' 'Grayson Allen' 'Greg Brown III'\n",
      " 'Gui Santos' 'Hamidou Diallo' 'Harrison Barnes' 'Harry Giles III'\n",
      " 'Haywood Highsmith' 'Henri Drell' 'Herbert Jones' 'Hunter Tyson'\n",
      " 'Ibou Badji' 'Immanuel Quickley' 'Isaac Okoro' 'Isaiah Hartenstein'\n",
      " 'Isaiah Jackson' 'Isaiah Joe' 'Isaiah Livers' 'Isaiah Mobley'\n",
      " 'Isaiah Stewart' 'Isaiah Thomas' 'Isaiah Wong' 'Ish Smith'\n",
      " 'Ish Wainright' 'Ivica Zubac' 'Izaiah Brockington' 'JD Davison' 'JT Thor'\n",
      " 'Ja Morant' 'JaVale McGee' 'Jabari Smith Jr.' 'Jabari Walker'\n",
      " 'Jack White' 'Jacob Gilyard' 'Jacob Toppin' 'Jaden Hardy' 'Jaden Ivey'\n",
      " 'Jaden McDaniels' 'Jaden Springer' 'Jae Crowder' \"Jae'Sean Tate\"\n",
      " \"Jahmi'us Ramsey\" 'Jaime Jaquez Jr.' 'Jake LaRavia' 'Jakob Poeltl'\n",
      " 'Jalen Brunson' 'Jalen Crutcher' 'Jalen Duren' 'Jalen Green'\n",
      " 'Jalen Hood-Schifino' 'Jalen Johnson' 'Jalen McDaniels' 'Jalen Pickett'\n",
      " 'Jalen Slawson' 'Jalen Smith' 'Jalen Suggs' 'Jalen Williams'\n",
      " 'Jalen Wilson' 'Jamal Cain' 'Jamal Murray' 'Jamaree Bouyea'\n",
      " 'James Bouknight' 'James Harden' 'James Johnson' 'James Wiseman'\n",
      " 'Jarace Walker' 'Jared Butler' 'Jared Rhoden' 'Jaren Jackson Jr.'\n",
      " 'Jarred Vanderbilt' 'Jarrett Allen' 'Jason Preston'\n",
      " 'Javon Freeman-Liberty' 'Javonte Green' 'Javonte Smart' 'Jaxson Hayes'\n",
      " 'Jay Huff' 'Jaylen Brown' 'Jaylen Nowell' 'Jaylin Williams'\n",
      " 'Jayson Tatum' 'Nate Williams' 'Jeff Dowtin Jr.' 'Jeff Green'\n",
      " 'Jerami Grant' 'Jeremiah Robinson-Earl' 'Jeremy Sochan' 'Jericho Sims'\n",
      " 'Jermaine Samuels Jr.' 'Jerome Robinson' 'Jett Howard' 'Jevon Carter'\n",
      " 'Jimmy Butler' 'Jock Landale' 'Joe Harris' 'Joe Ingles' 'Joel Embiid'\n",
      " 'John Collins' 'John Konchar' 'Johnny Davis' 'Johnny Juzang'\n",
      " 'Jonas Valanciunas' 'Jonathan Isaac' 'Jonathan Kuminga' 'Jontay Porter'\n",
      " 'Jordan Clarkson' 'Jordan Ford' 'Jordan Goodwin' 'Jordan Hawkins'\n",
      " 'Jordan McLaughlin' 'Jordan Miller' 'Jordan Nwora' 'Jordan Poole'\n",
      " 'Jordan Walsh' 'Jose Alvarado' 'Josh Giddey' 'Josh Green' 'Josh Hart'\n",
      " 'Josh Minott' 'Josh Okogie' 'Josh Richardson' 'Joshua Primo'\n",
      " 'Jrue Holiday' 'Juan Toscano-Anderson' 'Jules Bernard'\n",
      " 'Julian Champagnie' 'Julian Phillips' 'Julian Strawther' 'Julius Randle'\n",
      " 'Justin Champagnie' 'Justin Holiday' 'Justin Jackson' 'Justin Minaya'\n",
      " 'Jusuf Nurkic' 'KJ Martin' 'Kaiser Gates' 'Karl-Anthony Towns'\n",
      " 'Kawhi Leonard' 'Keegan Murray' 'Keita Bates-Diop' 'Keldon Johnson'\n",
      " 'Kelly Olynyk' 'Kelly Oubre Jr.' 'Kendall Brown' 'Kenneth Lofton Jr.'\n",
      " 'Kenrich Williams' 'Kentavious Caldwell-Pope' 'Keon Ellis' 'Keon Johnson'\n",
      " 'Kessler Edwards' 'Kevin Durant' 'Kevin Huerter' 'Kevin Knox II'\n",
      " 'Kevin Love' 'Kevon Harris' 'Kevon Looney' 'Keyontae Johnson'\n",
      " 'Keyonte George' 'Khris Middleton' 'Killian Hayes' 'Kira Lewis Jr.'\n",
      " 'Klay Thompson' 'Kobe Brown' 'Kobe Bufkin' 'Kobi Simmons' 'Kris Dunn'\n",
      " 'Kris Murray' 'Kristaps Porzingis' 'Kyle Anderson' 'Kyle Kuzma'\n",
      " 'Kyle Lowry' 'Kyrie Irving' 'LaMelo Ball' 'Lamar Stevens' 'Landry Shamet'\n",
      " 'Larry Nance Jr.' 'Lauri Markkanen' 'LeBron James' 'Leaky Black'\n",
      " 'Leonard Miller' 'Lester Quinones' 'Lindell Wigginton' 'Lindy Waters III'\n",
      " 'Lonnie Walker IV' 'Luguentz Dort' 'Luka Doncic' 'Luka Garza'\n",
      " 'Luka Samanic' 'Luke Kennard' 'Luke Kornet' 'Malachi Flynn'\n",
      " 'Malaki Branham' 'Malcolm Brogdon' 'Malcolm Cazalon' 'Malik Beasley'\n",
      " 'Malik Monk' 'Malik Williams' 'Mamadi Diakite' 'MarJon Beauchamp'\n",
      " 'Marcus Morris Sr.' 'Marcus Sasser' 'Marcus Smart' 'Mark Williams'\n",
      " 'Markelle Fultz' 'Markieff Morris' 'Markquis Nowell' 'Marques Bolden'\n",
      " 'Marvin Bagley III' 'Mason Jones' 'Mason Plumlee' 'Matisse Thybulle'\n",
      " 'Matt Ryan' 'Matt Hurt' 'Max Christie' 'Max Strus' 'Maxi Kleber'\n",
      " 'Maxwell Lewis' 'Micah Potter' 'Michael Porter Jr.' 'Mikal Bridges'\n",
      " 'Mike Conley' 'Mike Muscala' 'Miles Bridges' 'Miles McBride'\n",
      " 'Mitchell Robinson' 'Mo Bamba' 'Monte Morris' 'Moritz Wagner'\n",
      " 'Moses Brown' 'Moses Moody' 'Mouhamadou Gueye' 'Mouhamed Gueye'\n",
      " 'Moussa Diabate' 'Myles Turner' 'Maozinha Pereira' 'Naji Marshall'\n",
      " 'Nassir Little' 'Nate Hinton' 'Nathan Mensah' 'Naz Reid' 'Neemias Queta'\n",
      " 'Nic Claxton' 'Nick Richards' 'Nick Smith Jr.' 'Nickeil Alexander-Walker'\n",
      " 'Nicolas Batum' 'Nikola Jovic' 'Nikola Vucevic' 'Noah Clowney'\n",
      " 'Norman Powell' 'OG Anunoby' 'Obi Toppin' 'Ochai Agbaji' 'Olivier Sarr'\n",
      " 'Olivier-Maxence Prosper' 'Omer Yurtseven' 'Onuralp Bitim'\n",
      " 'Onyeka Okongwu' 'Orlando Robinson' 'Oscar Tshiebwe' 'Oshae Brissett'\n",
      " 'Otto Porter Jr.' 'Ousmane Dieng' 'P.J. Tucker' 'P.J. Washington'\n",
      " 'Paolo Banchero' 'Pascal Siakam' 'Pat Connaughton' 'Pat Spencer'\n",
      " 'Patrick Baldwin Jr.' 'Patrick Beverley' 'Patrick Williams' 'Patty Mills'\n",
      " 'Paul George' 'Paul Reed' 'Payton Pritchard' 'Pete Nance' 'Peyton Watson'\n",
      " 'Precious Achiuwa' 'Quentin Grimes' 'Quenton Jackson' 'R.J. Hampton'\n",
      " 'RJ Barrett' 'RaiQuan Gray' 'Rayan Rupert' 'Reggie Bullock Jr.'\n",
      " 'Reggie Jackson' 'Richaun Holmes' 'Ricky Council IV' 'Robert Covington'\n",
      " 'Robert Williams III' 'Robin Lopez' 'Ron Harper Jr.' \"Royce O'Neale\"\n",
      " 'Rudy Gobert' 'Rui Hachimura' 'Russell Westbrook' 'Ryan Arcidiacono'\n",
      " 'Ryan Rollins' 'Saben Lee' 'Saddiq Bey' 'Sam Hauser' 'Sam Merrill'\n",
      " 'Sandro Mamukelashvili' 'Santi Aldama' 'Sasha Vezenkov' 'Scoot Henderson'\n",
      " 'Scottie Barnes' 'Scotty Pippen Jr.' 'Seth Curry' 'Seth Lundy'\n",
      " 'Shaedon Sharpe' 'Shai Gilgeous-Alexander' 'Shake Milton'\n",
      " 'Shaquille Harrison' 'Sidy Cissoko' 'Simone Fontecchio' 'Skylar Mays'\n",
      " 'Spencer Dinwiddie' 'Stanley Umude' 'Stephen Curry' 'Svi Mykhailiuk'\n",
      " 'T.J. McConnell' 'T.J. Warren' 'Taj Gibson' 'Talen Horton-Tucker'\n",
      " 'Tari Eason' 'Taurean Prince' 'Taylor Hendricks' 'Taze Moore'\n",
      " 'Terance Mann' 'Terquavion Smith' 'Terry Rozier' 'Terry Taylor'\n",
      " 'Thaddeus Young' 'Thanasis Antetokounmpo' 'Thomas Bryant' 'Theo Maledon'\n",
      " 'Tim Hardaway Jr.' 'Timmy Allen' 'Tobias Harris' 'Torrey Craig'\n",
      " 'Tosan Evbuomwan' 'Toumani Camara' 'Trae Young' 'Trayce Jackson-Davis'\n",
      " 'Tre Jones' 'Tre Mann' 'Trendon Watford' 'Trent Forrest' 'Trevelin Queen'\n",
      " 'Trey Jemison' 'Trey Lyles' 'Trey Murphy III' 'Tristan Thompson'\n",
      " 'Tristan Vukcevic' 'Troy Brown Jr.' 'Ty Jerome' 'TyTy Washington Jr.'\n",
      " 'Tyler Herro' 'Tyrese Haliburton' 'Tyrese Maxey' 'Tyus Jones'\n",
      " 'Udoka Azubuike' 'Usman Garuba' 'Vasilije Micic' 'Victor Wembanyama'\n",
      " 'Vince Williams Jr.' 'Vit Krejci' 'Walker Kessler' 'Wendell Carter Jr.'\n",
      " 'Wendell Moore Jr.' 'Wenyen Gabriel' 'Wesley Matthews' 'Xavier Moon'\n",
      " 'Xavier Tillman' 'Yuta Watanabe' 'Zach Collins' 'Zach LaVine'\n",
      " 'Zavier Simpson' 'Zeke Nnaji' 'Ziaire Williams' 'Zion Williamson']\n"
     ]
    }
   ],
   "source": [
    "# Diccionario de sustituciones\n",
    "sustituciones = {\n",
    "    \"D?vis Bert?ns\": \"Davis Bertans\",\n",
    "    \"A.J. Green\": \"AJ Green\",\n",
    "    \"A.J. Lawson\": \"AJ Lawson\",\n",
    "    \"Boban Marjanovi?\": \"Boban Marjanovic\",\n",
    "    \"Bogdan Bogdanovi?\": \"Bogdan Bogdanovic\",\n",
    "    \"Bojan Bogdanovi?\": \"Bojan Bogdanovic\",\n",
    "    \"D'Moi Hodge\": \"D’Moi Hodge\",\n",
    "    \"Dario ari?\": \"Dario Saric\",\n",
    "    \"Dennis Schröder\": \"Dennis Schroder\",\n",
    "    \"Filip Petruev\": \"Filip Petrusev\",\n",
    "    \"Harry Giles\": \"Harry Giles III\",\n",
    "    \"Jeenathan Williams\": \"Nate Williams\",\n",
    "    \"Jeff Dowtin\": \"Jeff Dowtin Jr.\",\n",
    "    \"Jermaine Samuels\": \"Jermaine Samuels Jr.\",\n",
    "    \"Jonas Valan?i?nas\": \"Jonas Valanciunas\",\n",
    "    \"Jusuf Nurki?\": \"Jusuf Nurkic\",\n",
    "    \"Kevin Knox\": \"Kevin Knox II\",\n",
    "    \"Kristaps Porzi??is\": \"Kristaps Porzingis\",\n",
    "    \"Luka Don?i?\": \"Luka Doncic\",\n",
    "    \"Luka amani?\": \"Luka Samanic\",\n",
    "    \"Marcus Morris\": \"Marcus Morris Sr.\",\n",
    "    \"Matthew Hurt\": \"Matt Hurt\",\n",
    "    \"Moussa Diabaté\": \"Moussa Diabate\",\n",
    "    \"Mãozinha Pereira\": \"Maozinha Pereira\",\n",
    "    \"Nikola Joki?\": \"Nikola Jovic\",\n",
    "    \"Nikola Jovi?\": \"Nikola Jovic\",\n",
    "    \"Nikola Vu?evi?\": \"Nikola Vucevic\",\n",
    "    \"Reggie Bullock\": \"Reggie Bullock Jr.\",\n",
    "    \"Robert Williams\": \"Robert Williams III\",\n",
    "    \"Théo Maledon\": \"Theo Maledon\",\n",
    "    \"Vasilije Mici?\": \"Vasilije Micic\",\n",
    "    \"Xavier Tillman Sr.\": \"Xavier Tillman\"\n",
    "}\n",
    "\n",
    "# Aplicar las sustituciones en la columna \"Player\" de df_total\n",
    "df_total['Player'] = df_total['Player'].replace(sustituciones)\n",
    "\n",
    "# Verificar el resultado\n",
    "print(df_total['Player'].unique())  # Muestra los valores únicos para confirmar\n"
   ]
  },
  {
   "cell_type": "code",
   "execution_count": 11,
   "metadata": {
    "colab": {
     "base_uri": "https://localhost:8080/"
    },
    "id": "Fkja-Ndkeldz",
    "outputId": "87363066-6de1-4bd1-e601-e1b4edc2c272"
   },
   "outputs": [
    {
     "name": "stdout",
     "output_type": "stream",
     "text": [
      "Jugadores en df que no están en df_total:\n",
      "Empty DataFrame\n",
      "Columns: [PLAYER_NAME]\n",
      "Index: []\n"
     ]
    }
   ],
   "source": [
    "# Jugadores en df que no están en df_total\n",
    "jugadores_faltantes_df1 = df1[~df1['PLAYER_NAME'].isin(df_reducido['Player'])]\n",
    "\n",
    "print(\"Jugadores en df que no están en df_total:\")\n",
    "print(jugadores_faltantes_df1[['PLAYER_NAME']])\n"
   ]
  },
  {
   "cell_type": "code",
   "execution_count": 12,
   "metadata": {
    "colab": {
     "base_uri": "https://localhost:8080/"
    },
    "id": "0ZQFPVv3e1kS",
    "outputId": "2438eb82-fdaf-47ba-dfe4-8f12a6c3b8cf"
   },
   "outputs": [
    {
     "name": "stdout",
     "output_type": "stream",
     "text": [
      "        GAME_ID  NEW_GAME_EVENT_ID  PLAYER_ID       PLAYER_NAME     TEAM_ID  \\\n",
      "0      22300031               5497    1630173  Precious Achiuwa  1610612761   \n",
      "1      22300031               5496    1630173  Precious Achiuwa  1610612761   \n",
      "2      22300031               5498    1630173  Precious Achiuwa  1610612761   \n",
      "3      22300031               5499    1630173  Precious Achiuwa  1610612761   \n",
      "4      22300038               6654    1630173  Precious Achiuwa  1610612761   \n",
      "...         ...                ...        ...               ...         ...   \n",
      "33454  22301035             185109    1628973     Jalen Brunson  1610612752   \n",
      "33455  22301035             185108    1628973     Jalen Brunson  1610612752   \n",
      "33456  22301035             185107    1628973     Jalen Brunson  1610612752   \n",
      "33457  22301035             185106    1628973     Jalen Brunson  1610612752   \n",
      "33458  22301035             185105    1628973     Jalen Brunson  1610612752   \n",
      "\n",
      "             TEAM_NAME  PERIOD  MINUTES_REMAINING  SECONDS_REMAINING  \\\n",
      "0      Toronto Raptors       1                  1                 49   \n",
      "1      Toronto Raptors       1                  0                 11   \n",
      "2      Toronto Raptors       2                  8                 49   \n",
      "3      Toronto Raptors       4                  9                 30   \n",
      "4      Toronto Raptors       1                  0                 32   \n",
      "...                ...     ...                ...                ...   \n",
      "33454  New York Knicks       3                 11                  9   \n",
      "33455  New York Knicks       3                 10                 43   \n",
      "33456  New York Knicks       3                 10                  2   \n",
      "33457  New York Knicks       3                  4                 14   \n",
      "33458  New York Knicks       3                  2                 49   \n",
      "\n",
      "        EVENT_TYPE  ...    2P%   eFG%    FT%   TRB   AST  STL  BLK   PTS  \\\n",
      "0        Made Shot  ...  2.193  2.061  2.215  23.4   4.8  2.2  3.8  28.1   \n",
      "1      Missed Shot  ...  2.193  2.061  2.215  23.4   4.8  2.2  3.8  28.1   \n",
      "2      Missed Shot  ...  2.193  2.061  2.215  23.4   4.8  2.2  3.8  28.1   \n",
      "3        Made Shot  ...  2.193  2.061  2.215  23.4   4.8  2.2  3.8  28.1   \n",
      "4      Missed Shot  ...  2.193  2.061  2.215  23.4   4.8  2.2  3.8  28.1   \n",
      "...            ...  ...    ...    ...    ...   ...   ...  ...  ...   ...   \n",
      "33454    Made Shot  ...  1.004  1.025  1.622   6.9  14.2  1.7  0.4  61.1   \n",
      "33455    Made Shot  ...  1.004  1.025  1.622   6.9  14.2  1.7  0.4  61.1   \n",
      "33456  Missed Shot  ...  1.004  1.025  1.622   6.9  14.2  1.7  0.4  61.1   \n",
      "33457  Missed Shot  ...  1.004  1.025  1.622   6.9  14.2  1.7  0.4  61.1   \n",
      "33458    Made Shot  ...  1.004  1.025  1.622   6.9  14.2  1.7  0.4  61.1   \n",
      "\n",
      "      AST_TOV_Ratio Efficiency  \n",
      "0          1.263158   0.670238  \n",
      "1          1.263158   0.670238  \n",
      "2          1.263158   0.670238  \n",
      "3          1.263158   0.670238  \n",
      "4          1.263158   0.670238  \n",
      "...             ...        ...  \n",
      "33454      2.784314   1.093085  \n",
      "33455      2.784314   1.093085  \n",
      "33456      2.784314   1.093085  \n",
      "33457      2.784314   1.093085  \n",
      "33458      2.784314   1.093085  \n",
      "\n",
      "[33459 rows x 48 columns]\n"
     ]
    }
   ],
   "source": [
    "# Unir df con df_reducido usando un inner join\n",
    "df_final = df1.merge(\n",
    "    df_reducido,\n",
    "    left_on='PLAYER_NAME',\n",
    "    right_on='Player',\n",
    "    how='inner'\n",
    ")\n",
    "\n",
    "# Eliminar la columna \"Player\" de df_total (si no la necesitas)\n",
    "df_final = df_final.drop(columns=['Player'])\n",
    "\n",
    "# Mostrar el resultado\n",
    "print(df_final)"
   ]
  },
  {
   "cell_type": "code",
   "execution_count": 13,
   "metadata": {
    "colab": {
     "base_uri": "https://localhost:8080/"
    },
    "id": "5HlbGCnre-Ky",
    "outputId": "ffcd4ffb-6339-4753-9710-92e3c9d81714"
   },
   "outputs": [
    {
     "name": "stdout",
     "output_type": "stream",
     "text": [
      "Jugadores con valores nulos en otras columnas (únicos):\n",
      "['Izaiah Brockington' 'Jalen Brunson']\n"
     ]
    }
   ],
   "source": [
    "# Filtrar filas con al menos un valor nulo en columnas que no sean PLAYER_NAME\n",
    "filas_con_nulos = df_final[df_final.drop(columns=['PLAYER_NAME']).isnull().any(axis=1)]\n",
    "\n",
    "# Obtener valores únicos de PLAYER_NAME\n",
    "jugadores_con_nulos_unicos = filas_con_nulos['PLAYER_NAME'].unique()\n",
    "\n",
    "# Mostrar resultados\n",
    "print(\"Jugadores con valores nulos en otras columnas (únicos):\")\n",
    "print(jugadores_con_nulos_unicos)"
   ]
  },
  {
   "cell_type": "code",
   "execution_count": 14,
   "metadata": {
    "id": "LY83fYznfDVz"
   },
   "outputs": [],
   "source": [
    "jugadores_a_eliminar = ['Izaiah Brockington', 'Jalen Brunson']\n",
    "\n",
    "df_final = df_final[~df_final[\"PLAYER_NAME\"].isin(jugadores_a_eliminar)]"
   ]
  },
  {
   "cell_type": "code",
   "execution_count": 16,
   "metadata": {
    "colab": {
     "base_uri": "https://localhost:8080/"
    },
    "id": "SsjF38BRfqu5",
    "outputId": "517b8c52-e544-49f9-e727-08b85dcbb04e"
   },
   "outputs": [
    {
     "name": "stdout",
     "output_type": "stream",
     "text": [
      "Empty DataFrame\n",
      "Columns: [GAME_ID, NEW_GAME_EVENT_ID, PLAYER_ID, PLAYER_NAME, TEAM_ID, TEAM_NAME, PERIOD, MINUTES_REMAINING, SECONDS_REMAINING, EVENT_TYPE, ACTION_TYPE, SHOT_TYPE, SHOT_ZONE_BASIC, SHOT_ZONE_AREA, LOC_X, LOC_Y, SHOT_ATTEMPTED_FLAG, SHOT_MADE_FLAG, GAME_DATE, SEASON TYPE, HOME_TEAM_NAME, AWAY_TEAM_NAME, LOCATION, POS, SHOT_DISTANCE_METERS, SHOT_ZONE_RANGE_METERS, Rk, Pos, Age, Tm, G, GS, MP, FGA, FG%, 3PA, 3P%, 2PA, 2P%, eFG%, FT%, TRB, AST, STL, BLK, PTS, AST_TOV_Ratio, Efficiency]\n",
      "Index: []\n",
      "\n",
      "[0 rows x 48 columns]\n"
     ]
    }
   ],
   "source": [
    "filas_con_nulos = df_final[df_final.isnull().any(axis=1)]\n",
    "print(filas_con_nulos)"
   ]
  },
  {
   "cell_type": "code",
   "execution_count": 19,
   "metadata": {
    "id": "aBt21K5vgR5f"
   },
   "outputs": [],
   "source": [
    "df_final.to_csv('NBA_STATS_2.csv', index=False)"
   ]
  },
  {
   "cell_type": "code",
   "execution_count": null,
   "metadata": {
    "id": "ImTV-B7Ogtpj"
   },
   "outputs": [],
   "source": []
  }
 ],
 "metadata": {
  "colab": {
   "provenance": []
  },
  "kernelspec": {
   "display_name": "Python 3 (ipykernel)",
   "language": "python",
   "name": "python3"
  },
  "language_info": {
   "codemirror_mode": {
    "name": "ipython",
    "version": 3
   },
   "file_extension": ".py",
   "mimetype": "text/x-python",
   "name": "python",
   "nbconvert_exporter": "python",
   "pygments_lexer": "ipython3",
   "version": "3.12.7"
  }
 },
 "nbformat": 4,
 "nbformat_minor": 4
}
